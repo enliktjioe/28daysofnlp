{
 "cells": [
  {
   "cell_type": "markdown",
   "metadata": {},
   "source": [
    "# Intro\n",
    "\n",
    "- Tutorial source: https://docs.tweepy.org/en/latest/getting_started.html\n",
    "- Original plan: https://realpython.com/twitter-sentiment-python-docker-elasticsearch-kibana/#twitter-streaming-api\n",
    " - Later found out that this was obsolote tutorial, from more than 5 years ago, with old docker version"
   ]
  },
  {
   "cell_type": "markdown",
   "metadata": {},
   "source": [
    "# Hello Tweepy"
   ]
  },
  {
   "cell_type": "code",
   "execution_count": 14,
   "metadata": {},
   "outputs": [
    {
     "name": "stdout",
     "output_type": "stream",
     "text": [
      "design at work https://t.co/zn04aX7RVf\n",
      "Regret to inform you I began two tweets today with the word \"although.\"\n",
      "RT @maxabelson: MacKenzie Scott has left her ex-husband, Jeff Bezos, in the philanthropic dust. Read @sooo__phie and @BSteverman's portrait…\n",
      "Tutorial Cara Buat Sake Di Jepang! Cara Buat Sake Itu Bagaimana? Ternyata Seperti Ini Lho! - https://t.co/BBKEDNahpi https://t.co/qGEEtyZb3D\n",
      "Do you have what it takes to be President of Sordland?📜\n",
      "\n",
      "Suzerain is 20% off on Steam, and has launched a massive c… https://t.co/U9vITQY9M9\n",
      "RT @Quicktake: Jeff Bezos has given away $1.4 billion since 2000. Last year alone, MacKenzie Scott gave away nearly $6 billion.\n",
      "\n",
      "Bloomberg'…\n",
      "Although I can't tell whether the hashtag #comedy2021 is meant to be ironic, I'm pleased to report that I will be a… https://t.co/N53QXmRWs7\n",
      "Berikut berita terpopuler Tren, mulai dari hoaks kabar meninggalnya Armand Maulana, soal Aisha Wedding, maraknya pe… https://t.co/akVUEMn7Zq\n",
      "Berita internasional terpopuler dari https://t.co/4VOOkFiGyW edisi Kamis (11/2/2021) hingga Jumat (12/2/2021). https://t.co/8grkQlt4OV\n",
      "“The rise in anti-Asian hate crimes have cast a shadow of fear over our community but we are speaking up now.”\n",
      "—Civ… https://t.co/myT3wS93qk\n",
      "Brand new mix coming up from @GorgonCity on @KissFMUK straight after @DJSKT 🙌 https://t.co/OBftP1m6nz\n",
      "The reviews are mixed for Popeyes' new fish sandwich https://t.co/OzVDAFFCoU\n",
      "Kubernetes?\n",
      "Looking forward to hearing @JonasBlue with @mistajam tomorrow on @capitaldance  🙌 https://t.co/4DwXNEmfPA\n",
      "Br gw cek ga ada subtitle di aslinya https://t.co/J5vZWLLO9a\n",
      "RT @guardian: Saudi Arabia: Loujain al-Hathloul release sparks calls for 'real justice' https://t.co/xmwrzizqew\n",
      "Elon Musk’s market-moving tweets have included Dogecoin, GameStop, Etsy, and Sandstorm https://t.co/PgPeFD6chS\n",
      "Video ini jelas dr awal gw bilang ga pake subtitle https://t.co/ymuYwnV5rJ\n",
      "Gw video ini ga pake subtitle, jd lu pake subtitle dr mana???? Br skrg inget https://t.co/ymuYwnV5rJ\n",
      "RT @jjainschigg: Reminding myself that things like #AdventOfCode have the benefit of same-paging a lot of really good coders whose work is…\n"
     ]
    }
   ],
   "source": [
    "from config_twitter import *\n",
    "import tweepy\n",
    "\n",
    "auth = tweepy.OAuthHandler(consumer_key, consumer_secret)\n",
    "auth.set_access_token(access_token, access_token_secret)\n",
    "\n",
    "api = tweepy.API(auth)\n",
    "\n",
    "public_tweets = api.home_timeline()\n",
    "for tweet in public_tweets:\n",
    "    print(tweet.text)\n"
   ]
  },
  {
   "cell_type": "markdown",
   "metadata": {},
   "source": [
    "## Models"
   ]
  },
  {
   "cell_type": "code",
   "execution_count": 22,
   "metadata": {},
   "outputs": [
    {
     "name": "stdout",
     "output_type": "stream",
     "text": [
      "Twitter\n",
      "59131871\n"
     ]
    }
   ],
   "source": [
    "# Get the User object for twitter...\n",
    "user = api.get_user('twitter')\n",
    "\n",
    "print(user.screen_name)\n",
    "print(user.followers_count)\n",
    "for friend in user.friends():\n",
    "    print(friend.screen_name)"
   ]
  },
  {
   "cell_type": "markdown",
   "metadata": {},
   "source": [
    "# Streaming with Tweepy"
   ]
  },
  {
   "cell_type": "markdown",
   "metadata": {},
   "source": [
    "## Create StreamListener"
   ]
  },
  {
   "cell_type": "code",
   "execution_count": 29,
   "metadata": {},
   "outputs": [],
   "source": [
    "import tweepy\n",
    "#override tweepy.StreamListener to add logic to on_status\n",
    "class MyStreamListener(tweepy.StreamListener):\n",
    "\n",
    "    def on_status(self, status):\n",
    "        print(status.text)"
   ]
  },
  {
   "cell_type": "markdown",
   "metadata": {},
   "source": [
    "## Creating a Stream"
   ]
  },
  {
   "cell_type": "code",
   "execution_count": 30,
   "metadata": {},
   "outputs": [],
   "source": [
    "myStreamListener = MyStreamListener()\n",
    "myStream = tweepy.Stream(auth = api.auth, listener=myStreamListener)"
   ]
  },
  {
   "cell_type": "markdown",
   "metadata": {},
   "source": [
    "## Starting a Stream"
   ]
  },
  {
   "cell_type": "code",
   "execution_count": null,
   "metadata": {},
   "outputs": [
    {
     "name": "stdout",
     "output_type": "stream",
     "text": [
      "@denicmarko @iamajibolasegun Python with Dr. Chuck! https://t.co/KuLJHb1DTO\n",
      "@enriquevetere Creo que una cosa central para enganchar a los chicos es el proyecto que elegís hacer.\n",
      "No lo he defi… https://t.co/wWKSXBnM5P\n",
      "RT @MargaretSiegien: 2021: an outlook for #5G in #healthcare\n",
      "#futureofwork #AI #ArtificialIntelligence #ML #MachineLearning #IoT #IIoT #VR…\n",
      "RT @MargaretSiegien: 2021: an outlook for #5G in #healthcare\n",
      "#futureofwork #AI #ArtificialIntelligence #ML #MachineLearning #IoT #IIoT #VR…\n",
      "RT @MargaretSiegien: 2021: an outlook for #5G in #healthcare\n",
      "#futureofwork #AI #ArtificialIntelligence #ML #MachineLearning #IoT #IIoT #VR…\n",
      "RT @MargaretSiegien: 2021: an outlook for #5G in #healthcare\n",
      "#futureofwork #AI #ArtificialIntelligence #ML #MachineLearning #IoT #IIoT #VR…\n",
      "RT @MargaretSiegien: 2021: an outlook for #5G in #healthcare\n",
      "#futureofwork #AI #ArtificialIntelligence #ML #MachineLearning #IoT #IIoT #VR…\n",
      "RT @MargaretSiegien: 2021: an outlook for #5G in #healthcare\n",
      "#futureofwork #AI #ArtificialIntelligence #ML #MachineLearning #IoT #IIoT #VR…\n",
      "RT @MargaretSiegien: 2021: an outlook for #5G in #healthcare\n",
      "#futureofwork #AI #ArtificialIntelligence #ML #MachineLearning #IoT #IIoT #VR…\n",
      "RT @MargaretSiegien: 2021: an outlook for #5G in #healthcare\n",
      "#futureofwork #AI #ArtificialIntelligence #ML #MachineLearning #IoT #IIoT #VR…\n",
      "RT @MargaretSiegien: 2021: an outlook for #5G in #healthcare\n",
      "#futureofwork #AI #ArtificialIntelligence #ML #MachineLearning #IoT #IIoT #VR…\n",
      "RT @breaking_bytes: Help pls. I've searched #github issues, but maybe I've overlooked something obvious. Recently #vscode doesn't run #pyth…\n",
      "RT @Imminent_Flair: Break Bank. Create.\n",
      ".\n",
      "#Imminentflair #blockchain #bigdata #ai #cybersecurity #innovation #machinelearning #technology #…\n",
      "So how's the python installation die you download or pulled ?\n",
      "\n",
      "#fyp\n",
      "#tiktok\n",
      "#pisces\n",
      "MY M1 PULLED LAST WEEK!\n",
      "RT @MJJJusticePrjct: Lionel Richie talks to Drew Barrymore about working with Michael Jackson on We Are The World and his pet python. https…\n",
      "RT @gp_pulipaka: How to Run Matplotlib Plots and Pandas Dataframes Dynamically. #BigData #Analytics #DataScience #AI #MachineLearning #IoT…\n",
      "RT @TechRepublic: Ready to start #coding? What you need to know about #Python https://t.co/cXYcptpv2J \n",
      "\n",
      "For more about #ProgrammingLanguage…\n",
      "RT @MargaretSiegien: 2021: an outlook for #5G in #healthcare\n",
      "#futureofwork #AI #ArtificialIntelligence #ML #MachineLearning #IoT #IIoT #VR…\n",
      "RT @prettyboutique7: Clutch Bag Snake Women's Pouch Fashion Envelope Bag Party Evening Python Clutch Bags Purse Ins F360#accessories #inspi…\n",
      "Lanzar excepción en Python https://t.co/tbNQhiP6UQ\n",
      "RT @agubelu_bot: El estado de alarma está para cualquier cosa que quieran las autonomías, ellas tienen el control Asturias: En python?\n",
      "MONTY PYTHON STUFF\n",
      "RT @MargaretSiegien: 2021: an outlook for #5G in #healthcare\n",
      "#futureofwork #AI #ArtificialIntelligence #ML #MachineLearning #IoT #IIoT #VR…\n",
      "RT @MargaretSiegien: 2021: an outlook for #5G in #healthcare\n",
      "#futureofwork #AI #ArtificialIntelligence #ML #MachineLearning #IoT #IIoT #VR…\n",
      "RT @MargaretSiegien: 2021: an outlook for #5G in #healthcare\n",
      "#futureofwork #AI #ArtificialIntelligence #ML #MachineLearning #IoT #IIoT #VR…\n",
      "RT @MargaretSiegien: 2021: an outlook for #5G in #healthcare\n",
      "#futureofwork #AI #ArtificialIntelligence #ML #MachineLearning #IoT #IIoT #VR…\n",
      "RT @MstoreC: Word \"NEVER\" &amp;&amp; \"DON'T\"\n",
      "is just terrifying words, avoid to such words when you want to accomplish something in your journey. #…\n",
      "RT @JeanLouisGouwy: A good reminder about security #nodejs #javascript #ruby #python #websecurity #frontenddev #backend #npm https://t.co/n…\n",
      "RT @yongyuanxi: A nice benefit of upgrading your Python to 3.8... dataclasses. C-like structs without stupid boilerplate. Interpreter will…\n",
      "RT @MstoreC: Word \"NEVER\" &amp;&amp; \"DON'T\"\n",
      "is just terrifying words, avoid to such words when you want to accomplish something in your journey. #…\n",
      "RT @MstoreC: Word \"NEVER\" &amp;&amp; \"DON'T\"\n",
      "is just terrifying words, avoid to such words when you want to accomplish something in your journey. #…\n",
      "RT @sethmlarson: ⚠️ Stop using self-signed certificates for development!\n",
      "\n",
      "trustme is a Python package that generates certificates+keys for…\n",
      "Interesting development\n",
      "\n",
      "https://t.co/UaZwLgcCV3\n",
      "RT @raymondh: Structural Pattern Matching is coming to #Python.\n",
      "\n",
      "The best way to learn about it is to reading the adventure game tutorial.…\n",
      "RT @Tanguy_lrx: Do you know how to detect #sqlinjection #vulnerabilities ?\n",
      "\n",
      "#hclswlobp #SQL #nocode #lowcode #javascript #github #nodejs #c…\n",
      "RT @i4agile: Data analysis is key to the success of almost every sector of the economy. Sign up for our 20-hour remote data analytics with…\n",
      "RT @MiriamAsensi: Build or buy? What is your strategy ? \n",
      " https://t.co/Pg8bxuRmLh\n",
      "\n",
      "#hclswlobp #business #lowcode #5g #nodejs #cybersecurity…\n",
      "RT @MiriamAsensi: Build or buy? What is your strategy ? \n",
      " https://t.co/Pg8bxuRmLh\n",
      "\n",
      "#hclswlobp #business #lowcode #5g #nodejs #cybersecurity…\n",
      "[New Video] #MachineLearning API Tutorial using fastapi [#ML / #AI API Tutorial] #pythonlearning #python #docker… https://t.co/gYS1LN4Kfh\n",
      "Software undergoes beta testing shortly before it’s released. Beta is Latin for “still doesn’t work. -Anonymous… https://t.co/ZciTz28hzG\n",
      "RT @ocean20182018: machine_ml: RT @sectest9: RT @ocean20182018: RT:\n",
      "\n",
      "Multiple Linear Regression in Machine Learning, an Infographic.#Machin…\n",
      "今日はPythonの勉強を中心に頑張るぞ！\n",
      "RT @BenchmarkIT_Sol: Check out this #INFOGRAPHIC to know why to go #OpenSource?\n",
      "\n",
      "#opensource #linux #programming #software #coding #technol…\n",
      "RT @glitchbotio: Software undergoes beta testing shortly before it’s released. Beta is Latin for “still doesn’t work. -Anonymous #javascrip…\n",
      "RT @glitchbotio: Software undergoes beta testing shortly before it’s released. Beta is Latin for “still doesn’t work. -Anonymous #javascrip…\n",
      "RT @glitchbotio: Software undergoes beta testing shortly before it’s released. Beta is Latin for “still doesn’t work. -Anonymous #javascrip…\n",
      "RT @ocean20182018: machine_ml: RT @sectest9: RT @ocean20182018: RT:\n",
      "\n",
      "Multiple Linear Regression in Machine Learning, an Infographic.#Machin…\n",
      "RT @ocean20182018: machine_ml: RT @sectest9: RT @ocean20182018: RT:\n",
      "\n",
      "Multiple Linear Regression in Machine Learning, an Infographic.#Machin…\n",
      "RT @ocean20182018: machine_ml: RT @sectest9: RT @ocean20182018: RT:\n",
      "\n",
      "Multiple Linear Regression in Machine Learning, an Infographic.#Machin…\n",
      "RT @ocean20182018: machine_ml: RT @sectest9: RT @ocean20182018: RT:\n",
      "\n",
      "Multiple Linear Regression in Machine Learning, an Infographic.#Machin…\n",
      "RT @ocean20182018: machine_ml: RT @sectest9: RT @ocean20182018: RT:\n",
      "\n",
      "Multiple Linear Regression in Machine Learning, an Infographic.#Machin…\n",
      "RT @glitchbotio: Software undergoes beta testing shortly before it’s released. Beta is Latin for “still doesn’t work. -Anonymous #javascrip…\n",
      "RT @codexelitedev: Developer follow train. Like &amp; Retweet to boost network. Follow everyone back! #coding #coder #javascript #followtrain #…\n",
      "RT @MiriamAsensi: Build or buy? What is your strategy ? \n",
      " https://t.co/Pg8bxuRmLh\n",
      "\n",
      "#hclswlobp #business #lowcode #5g #nodejs #cybersecurity…\n",
      "RT @MiriamAsensi: Build or buy? What is your strategy ? \n",
      " https://t.co/Pg8bxuRmLh\n",
      "\n",
      "#hclswlobp #business #lowcode #5g #nodejs #cybersecurity…\n"
     ]
    }
   ],
   "source": [
    "myStream.filter(track=['python'])\n",
    "myStream.filter(follow=[\"enlik\"])"
   ]
  },
  {
   "cell_type": "code",
   "execution_count": null,
   "metadata": {},
   "outputs": [],
   "source": []
  },
  {
   "cell_type": "code",
   "execution_count": null,
   "metadata": {},
   "outputs": [],
   "source": []
  },
  {
   "cell_type": "code",
   "execution_count": null,
   "metadata": {},
   "outputs": [],
   "source": []
  },
  {
   "cell_type": "code",
   "execution_count": null,
   "metadata": {},
   "outputs": [],
   "source": []
  },
  {
   "cell_type": "code",
   "execution_count": null,
   "metadata": {},
   "outputs": [],
   "source": []
  },
  {
   "cell_type": "code",
   "execution_count": null,
   "metadata": {},
   "outputs": [],
   "source": []
  },
  {
   "cell_type": "code",
   "execution_count": null,
   "metadata": {},
   "outputs": [],
   "source": []
  },
  {
   "cell_type": "code",
   "execution_count": null,
   "metadata": {},
   "outputs": [],
   "source": []
  },
  {
   "cell_type": "code",
   "execution_count": null,
   "metadata": {},
   "outputs": [],
   "source": []
  },
  {
   "cell_type": "code",
   "execution_count": null,
   "metadata": {},
   "outputs": [],
   "source": []
  },
  {
   "cell_type": "code",
   "execution_count": null,
   "metadata": {},
   "outputs": [],
   "source": []
  },
  {
   "cell_type": "code",
   "execution_count": null,
   "metadata": {},
   "outputs": [],
   "source": []
  },
  {
   "cell_type": "code",
   "execution_count": null,
   "metadata": {},
   "outputs": [],
   "source": []
  },
  {
   "cell_type": "code",
   "execution_count": null,
   "metadata": {},
   "outputs": [],
   "source": []
  }
 ],
 "metadata": {
  "kernelspec": {
   "display_name": "Python 3",
   "language": "python",
   "name": "python3"
  },
  "language_info": {
   "codemirror_mode": {
    "name": "ipython",
    "version": 3
   },
   "file_extension": ".py",
   "mimetype": "text/x-python",
   "name": "python",
   "nbconvert_exporter": "python",
   "pygments_lexer": "ipython3",
   "version": "3.6.7"
  },
  "toc": {
   "base_numbering": 1,
   "nav_menu": {},
   "number_sections": true,
   "sideBar": true,
   "skip_h1_title": false,
   "title_cell": "Table of Contents",
   "title_sidebar": "Contents",
   "toc_cell": false,
   "toc_position": {},
   "toc_section_display": true,
   "toc_window_display": false
  }
 },
 "nbformat": 4,
 "nbformat_minor": 2
}
